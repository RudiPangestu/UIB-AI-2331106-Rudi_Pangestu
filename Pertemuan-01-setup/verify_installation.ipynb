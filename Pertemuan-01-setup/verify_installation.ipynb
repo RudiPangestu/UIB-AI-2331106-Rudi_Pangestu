{
 "cells": [
  {
   "cell_type": "code",
   "execution_count": 1,
   "id": "41616315-4f36-47c5-834a-c14884a644a8",
   "metadata": {},
   "outputs": [
    {
     "name": "stdout",
     "output_type": "stream",
     "text": [
      "numpy: OK, version = 2.2.6\n",
      "pandas: OK, version = 2.3.2\n",
      "sklearn: OK, version = 1.7.2\n",
      "skfuzzy: OK, version = 0.5.0\n",
      "cv2: OK, version = 4.12.0\n",
      "matplotlib: OK, version = 3.10.6\n",
      "nltk: OK, version = 3.9.1\n",
      "Python: 3.11.9 (tags/v3.11.9:de54cf5, Apr  2 2024, 10:12:12) [MSC v.1938 64 bit (AMD64)]\n"
     ]
    }
   ],
   "source": [
    "import sys\n",
    "import importlib\n",
    "packages = ['numpy', 'pandas', 'sklearn', 'skfuzzy', 'cv2', 'matplotlib', 'nltk', ]\n",
    "for pkg in packages:\n",
    "    try:\n",
    "        m = importlib.import_module(pkg)\n",
    "        print(f\"{pkg}: OK, version = {getattr(m, '__version__', 'unknown')}\")\n",
    "    except Exception as e:\n",
    "        print(f\"{pkg}: ERROR -> {e}\")\n",
    "\n",
    "print(\"Python:\", sys.version)"
   ]
  },
  {
   "cell_type": "code",
   "execution_count": null,
   "id": "a1bd806b-14ce-46f3-8cc8-19953ecce797",
   "metadata": {},
   "outputs": [],
   "source": []
  }
 ],
 "metadata": {
  "kernelspec": {
   "display_name": "Python (ai_envv)",
   "language": "python",
   "name": "ai_envv"
  },
  "language_info": {
   "codemirror_mode": {
    "name": "ipython",
    "version": 3
   },
   "file_extension": ".py",
   "mimetype": "text/x-python",
   "name": "python",
   "nbconvert_exporter": "python",
   "pygments_lexer": "ipython3",
   "version": "3.11.9"
  }
 },
 "nbformat": 4,
 "nbformat_minor": 5
}
